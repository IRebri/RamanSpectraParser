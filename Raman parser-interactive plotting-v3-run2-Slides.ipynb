{
 "cells": [
  {
   "cell_type": "markdown",
   "metadata": {
    "slideshow": {
     "slide_type": "slide"
    }
   },
   "source": [
    "## Windows Target\n",
    "\n",
    "C:\\Windows\\System32\\cmd.exe /K \"cd /d D:\\PyProjects\\RamanSpectraParser\\ & jupyter nbconvert \"Raman parser-interactive plotting-v3-run2-Slides.ipynb\" --to slides --post serve\"\n",
    "\n"
   ]
  },
  {
   "cell_type": "code",
   "execution_count": null,
   "metadata": {
    "collapsed": true,
    "slideshow": {
     "slide_type": "slide"
    }
   },
   "outputs": [],
   "source": [
    "from ipywidgets import interact, interactive, IntSlider, Layout, interact_manual\n",
    "import ipywidgets as widgets\n",
    "from IPython.display import display\n",
    "\n",
    "import numpy as np\n",
    "import pandas as pd\n",
    "import mpld3\n",
    "mpld3.enable_notebook()\n",
    "\n",
    "import matplotlib.pyplot as plt\n",
    "#%matplotlib inline\n",
    "\n",
    "import glob\n",
    "\n"
   ]
  },
  {
   "cell_type": "code",
   "execution_count": 59,
   "metadata": {
    "collapsed": true,
    "slideshow": {
     "slide_type": "slide"
    }
   },
   "outputs": [],
   "source": [
    "def load_dflist_txt(txt_namelist):\n",
    "    return [pd.read_csv(filename, sep='\\t', header=None, names = [\"Raman shift, cm^{-1}\",  filename[-8:len(filename)-4]])\n",
    "            for filename in txt_namelist]\n",
    "    \n",
    "def load_dflist_hdfs(size, file_name_ptrn='G:/big data Raman/hfcvd/data_{:02}.h5', **kwarg):\n",
    "    dflist = []\n",
    "    for i in range(size):\n",
    "        dflist.append(pd.read_hdf(file_name_ptrn.format(i+1), 'df{:02d}'.format(i+1), **kwarg))\n",
    "#         df.to_hdf(file_name_ptrn.format(i+1), 'df{:02d}'.format(i+1), **kwarg)\n",
    "    return dflist\n",
    "\n",
    "def load_dflist_single_hdfs(size, file_name='G:/big data Raman/hfcvd/data.h5', **kwarg):\n",
    "    dflist = []\n",
    "    for i in range(size):\n",
    "        dflist.append(pd.read_hdf(file_name, 'df{:02d}'.format(i+1), **kwarg))\n",
    "#         df.to_hdf(file_name_ptrn.format(i+1), 'df{:02d}'.format(i+1), **kwarg)\n",
    "    return dflist\n",
    "\n",
    "def save_dflist_hdfs(dflist, file_name_ptrn='G:/big data Raman/hfcvd/data_{:02}.h5', **kwarg):\n",
    "    for i, df in enumerate(dflist):\n",
    "        df.to_hdf(file_name_ptrn.format(i+1), 'df{:02d}'.format(i+1), **kwarg)\n",
    "    return len(dflist)  \n",
    "\n",
    "def save_dflist_single_hdfs(dflist, file_name='Raman_Granit.h5', **kwarg):\n",
    "    for i, df in enumerate(dflist):\n",
    "        df.to_hdf(file_name, 'df_key{:02d}'.format(i+1), **kwarg)\n",
    "    return len(dflist)  "
   ]
  },
  {
   "cell_type": "code",
   "execution_count": 60,
   "metadata": {
    "collapsed": false,
    "slideshow": {
     "slide_type": "subslide"
    }
   },
   "outputs": [
    {
     "name": "stdout",
     "output_type": "stream",
     "text": [
      "18\n",
      "18\n"
     ]
    }
   ],
   "source": [
    "# # Lab case\n",
    "txt_namelist = glob.glob(\"interesting/**/*.txt\", recursive=True)\n",
    "print(len(txt_namelist))\n",
    "dflist = load_dflist_txt(txt_namelist)\n",
    "print(len(dflist))\n",
    "\n",
    "\n",
    "# # Home case\n",
    "# h5_namelist = glob.glob(\"G:/big data Raman/hfcvd/*.h5\")\n",
    "# print(len(h5_namelist))\n",
    "# dflist = load_dflist_hdfs(len(h5_namelist))\n",
    "\n",
    "\n"
   ]
  },
  {
   "cell_type": "code",
   "execution_count": 61,
   "metadata": {
    "collapsed": false,
    "slideshow": {
     "slide_type": "subslide"
    }
   },
   "outputs": [
    {
     "data": {
      "text/html": [
       "<div>\n",
       "<style scoped>\n",
       "    .dataframe tbody tr th:only-of-type {\n",
       "        vertical-align: middle;\n",
       "    }\n",
       "\n",
       "    .dataframe tbody tr th {\n",
       "        vertical-align: top;\n",
       "    }\n",
       "\n",
       "    .dataframe thead th {\n",
       "        text-align: right;\n",
       "    }\n",
       "</style>\n",
       "<table border=\"1\" class=\"dataframe\">\n",
       "  <thead>\n",
       "    <tr style=\"text-align: right;\">\n",
       "      <th></th>\n",
       "      <th>Raman shift, cm^{-1}</th>\n",
       "      <th>99_1</th>\n",
       "    </tr>\n",
       "  </thead>\n",
       "  <tbody>\n",
       "    <tr>\n",
       "      <th>0</th>\n",
       "      <td>2600.66</td>\n",
       "      <td>15.7263</td>\n",
       "    </tr>\n",
       "    <tr>\n",
       "      <th>1</th>\n",
       "      <td>2602.02</td>\n",
       "      <td>15.3964</td>\n",
       "    </tr>\n",
       "    <tr>\n",
       "      <th>2</th>\n",
       "      <td>2603.39</td>\n",
       "      <td>15.9527</td>\n",
       "    </tr>\n",
       "    <tr>\n",
       "      <th>3</th>\n",
       "      <td>2604.75</td>\n",
       "      <td>15.5617</td>\n",
       "    </tr>\n",
       "    <tr>\n",
       "      <th>4</th>\n",
       "      <td>2606.12</td>\n",
       "      <td>16.0948</td>\n",
       "    </tr>\n",
       "  </tbody>\n",
       "</table>\n",
       "</div>"
      ],
      "text/plain": [
       "   Raman shift, cm^{-1}     99_1\n",
       "0               2600.66  15.7263\n",
       "1               2602.02  15.3964\n",
       "2               2603.39  15.9527\n",
       "3               2604.75  15.5617\n",
       "4               2606.12  16.0948"
      ]
     },
     "execution_count": 61,
     "metadata": {},
     "output_type": "execute_result"
    }
   ],
   "source": [
    "colorlist = [(102/255, 94/255, 252/255), #blue, \n",
    "             (255/255, 175/255, 43/255), #orange, \n",
    "             (255/255, 81/255, 152/255), #magenta, \n",
    "             (0, 179/255, 0),            #green, \n",
    "             (59/255, 217/255, 233/255), #cyan, \n",
    "             (188/255, 0, 188/255),      #purple\n",
    "             (210/255,105/255,30/255),      #chocolate\n",
    "             (220/255,20/255,60/255), #crimson\n",
    "             (255/255,215/255,0), #gold\n",
    "             (65/255,105/255,0), #royalblue\n",
    "             (75/255,0, 130/255), #indigo\n",
    "             (135/255,206/255, 250/255) #lightskyblue\n",
    "            ]  \n",
    "\n",
    "label_dict = {\"G-1585\":[1585],    # 0cm if delta lambda 1eV\n",
    "                  \"IFM-960\":[960],    # 180cm if delta lambda 1eV\n",
    "                  \"D-1350\":[1350],    # +50cm if delta lambda 1eV\n",
    "                  \"Diam-1333\":[1333], \n",
    "                  \"D^-1620\":[1620],    # +10cm if delta lambda 1eV\n",
    "                  \"twoD-2700\":[2700], # +100cm if delta lambda 1eV\n",
    "                  \"G*-2450\":[2450],   # -10cm if delta lambda 1eV\n",
    "                  \"G+D-2935\":[2935],       # 50cm if delta lambda 1eV\n",
    "                  \"D^+D-2970\":[2970],       # 60cm if delta lambda 1eV\n",
    "                  \"twoG-3170\":[3170],       # 0cm if delta lambda 1eV\n",
    "                  \"G+D^-3205\":[3205],       # 10cm if delta lambda 1eV\n",
    "                  \"G^^-3240\":[3240],       # 20cm if delta lambda 1eV\n",
    "                  \"Si-520\":[520]\n",
    "                 } \n",
    "\n",
    "dflist[5].head()"
   ]
  },
  {
   "cell_type": "code",
   "execution_count": 62,
   "metadata": {
    "collapsed": false,
    "slideshow": {
     "slide_type": "subslide"
    }
   },
   "outputs": [],
   "source": [
    "def multi_plot(number_per_figure, \n",
    "               IFM960 = False,\n",
    "               G = False,\n",
    "               D=False,\n",
    "               twoD=False,\n",
    "               Diamond = False,\n",
    "               Si = False,\n",
    "               normMax = False):\n",
    "    size = (14,5)\n",
    "    int(len(df_list)/number_per_figure)\n",
    "    plt.figure(figsize  = size)\n",
    "    \n",
    "    for k in range(int(len(df_list)/number_per_figure)):\n",
    "        \n",
    "        ax = plt.gca()\n",
    "        ax.set(ylabel='Intensity, a.u.')\n",
    "        ax.set(xlabel=r'Raman shift, cm$^{-1}$')\n",
    "        \n",
    "        \n",
    "        if IFM960:\n",
    "            plt.plot(label_dict[\"IFM-960\"]*2, [0,1000*((-1+1/1000)*normMax+1)],  color=colorlist[1], linewidth = 1) #G-line\n",
    "            plt.text(label_dict[\"IFM-960\"][0]+10, 1000*((-1+1/1000)*normMax+1)+.05,\n",
    "                         \"IFM-960\", ha = 'right', va = 'bottom')\n",
    "            \n",
    "        if G:\n",
    "            plt.plot(label_dict[\"G-1585\"]*2, [0,1000*((-1+1/1000)*normMax+1)],  color=colorlist[1], linewidth = 1) #G-line\n",
    "            plt.text(label_dict[\"G-1585\"][0]+10, 1000*((-1+1/1000)*normMax+1)+.05,\n",
    "                         \"G-1585\", ha = 'right', va = 'bottom')\n",
    "\n",
    "        if D :\n",
    "            plt.plot(label_dict[\"D-1350\"]*2, [0,1000*((-1+1/1000)*normMax+1)], color=colorlist[2], linewidth = 1) #D-line\n",
    "            plt.text(label_dict[\"D-1350\"][0]+10, 1000*((-1+1/1000)*normMax+1)+.05,\n",
    "                         \"D-1350\", ha = 'right', va = 'bottom')\n",
    "        if twoD :\n",
    "            plt.plot(label_dict[\"twoD-2700\"]*2, [0,1000*((-1+1/1000)*normMax+1)], color=colorlist[3], linewidth = 1) #2D-line\n",
    "            plt.text(label_dict[\"twoD-2700\"][0]+10, 1000*((-1+1/1000)*normMax+1)+.05,\n",
    "                         \"twoD-2700\", ha = 'right', va = 'bottom')\n",
    "        if Diamond :\n",
    "            plt.plot(label_dict[\"Diam-1333\"]*2, [0,1000*((-1+1/1000)*normMax+1)], color=colorlist[4], linewidth = 1) #Diamond-line\n",
    "            plt.text(label_dict[\"Diam-1333\"][0]+10, 1000*((-1+1/1000)*normMax+1)+.05,\n",
    "                         \"Diam-1333\", ha = 'right', va = 'bottom')\n",
    "        if Si :\n",
    "            plt.plot(label_dict[\"Si-520\"]*2, [0,1000*((-1+1/1000)*normMax+1)], color=colorlist[5], linewidth = 1) #Si-line \n",
    "            plt.text(label_dict[\"Si-520\"][0]+10, 1000*((-1+1/1000)*normMax+1)+.05,\n",
    "                         \"Si-520\", ha = 'right', va = 'bottom')\n",
    "            \n",
    "        # ax.annotate('local max', xy=(2, 1), xytext=(3, 1.5), arrowprops=dict(facecolor='black', shrink=0.05))\n",
    "        for n in range(number_per_figure):\n",
    "#         (-1+1/df_list[k*number_per_figure + n].iloc[:,1].max())*normMax + 1 instead df_list[k*number_per_figure + n].iloc[:,1]\n",
    "            plt.plot(df_list[k*number_per_figure + n].iloc[:,0], df_list[k*number_per_figure + n].iloc[:,1].multiply((-1+1/df_list[k*number_per_figure + n].iloc[:,1].max())*normMax+1),\n",
    "                     label = df_list[k*number_per_figure + n].columns[1] + \"_\" + str(k*number_per_figure + n),\n",
    "                     color=colorlist[(k*number_per_figure + n)%len(colorlist)])\n",
    "        ax.legend(loc='upper center', bbox_to_anchor=(1.01, 1.05), ncol=1, fancybox=True, shadow=True, title = \"File_name and index in list\")\n",
    "        plt.figure(figsize  = size)\n",
    "    \n",
    "    \n",
    "    for k in range(len(df_list)%number_per_figure):\n",
    "#         df_list[-1-k].plot()\n",
    "        \n",
    "        ax = plt.gca()\n",
    "        ax.set(ylabel='Intensity, a.u.')\n",
    "        ax.set(xlabel=r'Raman shift, cm$^{-1}$')\n",
    "        \n",
    "        if IFM960:\n",
    "            plt.plot(label_dict[\"IFM-960\"]*2, [0,1000*((-1+1/1000)*normMax+1)],  color=colorlist[1], linewidth = 1) #G-line\n",
    "            plt.text(label_dict[\"IFM-960\"][0]+10, 1000*((-1+1/1000)*normMax+1)+.05,\n",
    "                         \"IFM-960\", ha = 'right', va = 'bottom')\n",
    "        if G:\n",
    "            plt.plot(label_dict[\"G-1585\"]*2, [0,1000*((-1+1/1000)*normMax+1)],  color=colorlist[1], linewidth = 1) #G-line\n",
    "            plt.text(label_dict[\"G-1585\"][0]+10, 1000*((-1+1/1000)*normMax+1)+.05,\n",
    "                         \"G-1585\", ha = 'right', va = 'bottom')\n",
    "\n",
    "        if D :\n",
    "            plt.plot(label_dict[\"D-1350\"]*2, [0,1000*((-1+1/1000)*normMax+1)], color=colorlist[2], linewidth = 1) #D-line\n",
    "            plt.text(label_dict[\"D-1350\"][0]+10, 1000*((-1+1/1000)*normMax+1)+.05,\n",
    "                         \"D-1350\", ha = 'right', va = 'bottom')\n",
    "        if twoD :\n",
    "            plt.plot(label_dict[\"twoD-2700\"]*2, [0,1000*((-1+1/1000)*normMax+1)], color=colorlist[3], linewidth = 1) #2D-line\n",
    "            plt.text(label_dict[\"twoD-2700\"][0]+10, 1000*((-1+1/1000)*normMax+1)+.05,\n",
    "                         \"twoD-2700\", ha = 'right', va = 'bottom')\n",
    "        if Diamond :\n",
    "            plt.plot(label_dict[\"Diam-1333\"]*2, [0,1000*((-1+1/1000)*normMax+1)], color=colorlist[4], linewidth = 1) #Diamond-line\n",
    "            plt.text(label_dict[\"Diam-1333\"][0]+10, 1000*((-1+1/1000)*normMax+1)+.05,\n",
    "                         \"Diam-1333\", ha = 'right', va = 'bottom')\n",
    "        if Si :\n",
    "            plt.plot(label_dict[\"Si-520\"]*2, [0,1000*((-1+1/1000)*normMax+1)], color=colorlist[5], linewidth = 1) #Si-line \n",
    "            plt.text(label_dict[\"Si-520\"][0]+10, 1000*((-1+1/1000)*normMax+1)+.05,\n",
    "                         \"Si-520\", ha = 'right', va = 'bottom')\n",
    "\n",
    "        plt.plot(df_list[-1-k].iloc[:,0], df_list[-1-k].iloc[:,1].multiply((-1+1/df_list[-1-k].iloc[:,1].max())*normMax+1), label = df_list[-1-k].columns[1] + \"_\" + str(-1-k),\n",
    "                 color=colorlist[k%len(colorlist)],\n",
    "                linewidth = 1.)\n",
    "        ax.legend(loc='upper center', bbox_to_anchor=(1.01, 1.05), ncol=1, fancybox=True, shadow=True, title=\"File_name and index in list\")\n",
    "    \n",
    "\n",
    "    \n",
    "    \n",
    "    plt.grid(True)\n",
    "    \n",
    "    plt.show()\n"
   ]
  },
  {
   "cell_type": "code",
   "execution_count": 63,
   "metadata": {
    "collapsed": false,
    "slideshow": {
     "slide_type": "slide"
    }
   },
   "outputs": [
    {
     "name": "stdout",
     "output_type": "stream",
     "text": [
      "Total number of spectra:  18\n",
      "Total number of spectra for analize:  18\n",
      "Total number of spectra:  18\n",
      "Total number of spectra for analize:  18\n"
     ]
    }
   ],
   "source": [
    "# df_list = dflist[:50] # Analyze first 50 spectra\n",
    "# df_list = dflist[50:100] # Analyze second 50 spectra\n",
    "# df_list = dflist[100:150] # Analyze next 50 spectra\n",
    "# df_list = dflist[150:200] # Analyze next 50 spectra\n",
    "# df_list = dflist[200:250] # Analyze next 50 spectra\n",
    "# df_list = dflist[250:300] # Analyze next 50 spectra\n",
    "# df_list = dflist[300:350] # Analyze next 50 spectra\n",
    "# df_list = dflist[350:400] # Analyze next 50 spectra\n",
    "# df_list = dflist[400:450] # Analyze next 50 spectra\n",
    "# df_list = dflist[450:len(dflist)] # Analyze remaining\n",
    "\n",
    "# # at Lab\n",
    "df_list = dflist[::-1]\n",
    "print(\"Total number of spectra: \", len(dflist))\n",
    "print(\"Total number of spectra for analize: \", len(df_list))\n",
    "\n",
    "print(\"Total number of spectra: \", len(dflist))\n",
    "print(\"Total number of spectra for analize: \", len(df_list))"
   ]
  },
  {
   "cell_type": "code",
   "execution_count": null,
   "metadata": {
    "collapsed": true
   },
   "outputs": [],
   "source": []
  }
 ],
 "metadata": {
  "anaconda-cloud": {},
  "celltoolbar": "Slideshow",
  "kernelspec": {
   "display_name": "Python [default]",
   "language": "python",
   "name": "python3"
  },
  "language_info": {
   "codemirror_mode": {
    "name": "ipython",
    "version": 3
   },
   "file_extension": ".py",
   "mimetype": "text/x-python",
   "name": "python",
   "nbconvert_exporter": "python",
   "pygments_lexer": "ipython3",
   "version": "3.5.2"
  }
 },
 "nbformat": 4,
 "nbformat_minor": 1
}
